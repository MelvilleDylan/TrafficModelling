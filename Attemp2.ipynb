{
 "cells": [
  {
   "cell_type": "markdown",
   "metadata": {},
   "source": [
    "## Adding in backups\n",
    "\n",
    "This model takes into account that if the next section of road is jammed, the previous section of road cannot have cars flowing into it. This is done by having each section of road check the available room in the next section before giving its outflow. If the outflow would be higher than the available space, the flow is decreased to only the number of cars that could fit in the next road."
   ]
  },
  {
   "cell_type": "markdown",
   "metadata": {},
   "source": [
    "## USAGE GUIDE\n",
    "\n",
    "Running the second code block produces graphs that show the speed, number of cars, and vehicle flow in the 4 road sections over time. After running the second block, you can run the get_travel_time, which has 2 parameters: The index of the city the driver is starting in, and the start time. The city index should be between 0 and 3, and the start time is an integer where 0 is 5:30 am, and every unit is one minute.\n",
    "\n",
    "A graph of the travel time for the different cities over the day would be useful. If numbers aren't making sense let Dylan or Emily know and we'll look at the code.\n",
    "\n",
    "To change the properties of the road, edit the initialize function and the roads in the initialize function. Changing the jam density, or free flow speed will have to be changed in the Road class, or the Cities class.\n",
    "\n",
    "To change a city to have multiple mean leave times, change the city in the cities list from a \"City\" object to a \"MultiPeakCity\", and change the 'mean_leave' parameter to a list of times like so: (100,120,145)."
   ]
  },
  {
   "cell_type": "code",
   "execution_count": 1,
   "metadata": {},
   "outputs": [],
   "source": [
    "from scipy import stats\n",
    "import math\n",
    "\n",
    "class City:\n",
    "    def __init__(self, name, population,mean_leave):\n",
    "        self.name = name\n",
    "        self.population = population\n",
    "        self.mean_leave = mean_leave\n",
    "\n",
    "    def onramp(self, time):\n",
    "        st_dev = 45\n",
    "        commuters_percentage = 0.011\n",
    "        #Calculate the z-score for the normal dist. at the current time and the last time\n",
    "        z_now = (time-self.mean_leave) / st_dev\n",
    "        z_last = ((time-1)-self.mean_leave) / st_dev\n",
    "        #Calculate the probability of a car entering the highway in the last minute\n",
    "        cdf_now = stats.norm.cdf(z_now)\n",
    "        cdf_last = stats.norm.cdf(z_last)\n",
    "        probability = cdf_now - cdf_last\n",
    "        #Calculate the expected number of cars entering in the last minute\n",
    "        cars_coming_on = math.floor(probability*commuters_percentage*self.population)\n",
    "        return cars_coming_on\n",
    "\n",
    "class MultiPeakCity(City):\n",
    "    def __init__(self, name, population, mean_leave):\n",
    "        self.name = name\n",
    "        self.population = population\n",
    "        self.mean_leave_times = mean_leave\n",
    "        \n",
    "    def onramp(self, time):\n",
    "        st_dev = 45\n",
    "        commuters_percentage = 0.011\n",
    "        #Calculate the z-score for the normal dist. at the current time and the last time\n",
    "        num_leave_times = len(self.mean_leave_times)\n",
    "        cars_coming_on = 0\n",
    "        for mean_leave in self.mean_leave_times:\n",
    "            z_now = (time-mean_leave) / st_dev\n",
    "            z_last = ((time-1)-mean_leave) / st_dev\n",
    "            #Calculate the probability of a car entering the highway in the last minute\n",
    "            cdf_now = stats.norm.cdf(z_now)\n",
    "            cdf_last = stats.norm.cdf(z_last)\n",
    "            probability = cdf_now - cdf_last\n",
    "            #Calculate the expected number of cars entering in the last minute\n",
    "            cars_coming_on += math.floor(probability*commuters_percentage*self.population)/num_leave_times\n",
    "        return cars_coming_on\n",
    "\n",
    "class Road:\n",
    "    global free_flow_speed, jam_density, capacity_percentage\n",
    "    weather_severity = 0\n",
    "    free_flow_speed = 110 * (1 - weather_severity)/60 #110 is the free flow speed in km/h, so 110/60 is km/min\n",
    "    jam_density = 135\n",
    "    capacity_percentage = 0.95\n",
    "    \n",
    "    def __init__(self, length, lanes, onramp_city):\n",
    "        self.length = length\n",
    "        self.lanes= lanes\n",
    "        self.city = onramp_city\n",
    "        self.vehicle_count = 0\n",
    "        self.density = 0\n",
    "        self.next_road = None\n",
    "        self.speed = free_flow_speed*(1 - (self.density/jam_density))\n",
    "        #Assumption: The highway never gets fully jammed, so outflow never fully stops\n",
    "        self.max_vehicles = jam_density*self.lanes*self.length*capacity_percentage\n",
    "        \n",
    "    def set_next_road(self, next_road):\n",
    "        self.next_road = next_road\n",
    "        \n",
    "    def outflow(self):\n",
    "        self.speed = free_flow_speed*(1 - (self.density/jam_density))\n",
    "        outflow = self.density*self.speed\n",
    "        #if there is a next road, theres a possibility it is jammed, and therefore cars cannot flow at the rate they want to.\n",
    "        # in this case we check the capacity and only allow the number of cars that can fit.\n",
    "        if (self.next_road != None):\n",
    "            #if there is 0 space, allow no car movement\n",
    "            if (self.next_road.max_vehicles == self.next_road.vehicle_count):\n",
    "                outflow = 0\n",
    "                self.speed = 0\n",
    "            # if there is limited space, less than the outflow allow only those cars to move forwards\n",
    "            elif (self.next_road.max_vehicles - self.next_road.vehicle_count < outflow):\n",
    "                outflow = self.next_road.max_vehicles - self.next_road.vehicle_count\n",
    "                self.speed = outflow/self.density\n",
    "        return outflow\n",
    "    \n",
    "    def update(self,time,road_inflow):\n",
    "        onramp_inflow = self.city.onramp(time)\n",
    "        outflow = self.outflow()\n",
    "        #Assumption: Once the highway is jammed, all cars that would come on exit the highway\n",
    "        self.vehicle_count = min(math.floor(self.vehicle_count + onramp_inflow + road_inflow - outflow),self.max_vehicles)\n",
    "        self.density = self.vehicle_count / (self.lanes * self.length)\n",
    "        return {'Count':self.vehicle_count,'Onramp':onramp_inflow,'Road Inflow':road_inflow,'Outflow':outflow}"
   ]
  },
  {
   "cell_type": "code",
   "execution_count": 2,
   "metadata": {
    "scrolled": false
   },
   "outputs": [
    {
     "data": {
      "text/plain": [
       "<Figure size 640x480 with 1 Axes>"
      ]
     },
     "metadata": {},
     "output_type": "display_data"
    },
    {
     "data": {
      "text/plain": [
       "<Figure size 640x480 with 1 Axes>"
      ]
     },
     "metadata": {},
     "output_type": "display_data"
    },
    {
     "data": {
      "text/plain": [
       "<Figure size 640x480 with 1 Axes>"
      ]
     },
     "metadata": {},
     "output_type": "display_data"
    },
    {
     "data": {
      "text/plain": [
       "<Figure size 640x480 with 1 Axes>"
      ]
     },
     "metadata": {},
     "output_type": "display_data"
    }
   ],
   "source": [
    "# odeint performed on SIR model\n",
    "import numpy as np\n",
    "import scipy.integrate as integrate \n",
    "import matplotlib.pyplot as plt\n",
    "from pylab import * \n",
    "\n",
    "#Note: t = 0 is 5:30 am\n",
    "\n",
    "run_time=2000  # run_time*time_step must equal 600, which will go through one rush hour\n",
    "             # (std dev 33 with peak time for Hamilton route at 100, so 99% of the population will \n",
    "             # leave between 5:30 and )\n",
    "\n",
    "\n",
    "def initialize():\n",
    "    global time, speeds_record, vehicles_record, outflow_record, onramp_record, cities, roads\n",
    "    \n",
    "    #Setup our cities\n",
    "    cities = [\n",
    "        MultiPeakCity(name=\"Hamilton\",population=747545,mean_leave=(60,60+120)),\n",
    "        MultiPeakCity(name=\"Burlington\",population=183314,mean_leave=(70,70+120)),\n",
    "        MultiPeakCity(name=\"Oakville\",population=193832,mean_leave=(85,85+120)),\n",
    "        MultiPeakCity(name=\"Mississauga\",population=812000,mean_leave=(125,125+120))\n",
    "    ]\n",
    "    \n",
    "    #Setup the roads connecting those cities\n",
    "    roads = [\n",
    "        Road(length=11.1, lanes=4, onramp_city=cities[0]),\n",
    "        Road(length=17.0, lanes=3, onramp_city=cities[1]),\n",
    "        Road(length=13.8, lanes=3, onramp_city=cities[2]),\n",
    "        Road(length=20.9, lanes=2, onramp_city=cities[3])\n",
    "    ]\n",
    "    \n",
    "    roads[0].set_next_road(roads[1])\n",
    "    roads[1].set_next_road(roads[2])\n",
    "    roads[2].set_next_road(roads[3])\n",
    "    \n",
    "    time = 0\n",
    "    # list of the initial car populations\n",
    "    speeds_record = [[road.speed*60] for road in roads]\n",
    "    vehicles_record = [[road.vehicle_count] for road in roads]\n",
    "    outflow_record = [[road.outflow()] for road in roads]\n",
    "    onramp_record = [[road.city.onramp(0)] for road in roads]\n",
    "    \n",
    "def observe():\n",
    "    global time, speeds_record, vehicles_record, outflow_record, onramp_record,  cities, roads\n",
    "    \n",
    "    #using the road objects vehicle_count to record itself\n",
    "    for ind in range(len(vehicles_record)):\n",
    "        speeds_record[ind].append(roads[ind].speed*60)\n",
    "        vehicles_record[ind].append(roads[ind].vehicle_count)\n",
    "        outflow_record[ind].append(roads[ind].outflow())\n",
    "        onramp_record[ind].append(roads[ind].city.onramp(time))\n",
    "        \n",
    "    \n",
    "def updateall():\n",
    "    global time, cities, roads\n",
    "    outflows = [road.outflow() for road in roads]\n",
    "    roads[0].update(time, 0)\n",
    "    roads[1].update(time,outflows[0])\n",
    "    roads[2].update(time,outflows[1])\n",
    "    roads[3].update(time,outflows[2])\n",
    "    \n",
    "    time = time + 1\n",
    "\n",
    "initialize()\n",
    "\n",
    "for t in range(run_time):\n",
    "    updateall()\n",
    "    observe()\n",
    "\n",
    "plt.title(\"Vehicles Count with Flexible Work Hours\")\n",
    "plt.xlabel(\"Time\")\n",
    "plt.ylabel(\"Number of Vehicles\")\n",
    "plt.xticks((np.arange(0,800,120)),('5:30 am','7:30 am','9:30 am','11:30 am','1:30 pm','3:30 pm','5:30 pm'))\n",
    "\n",
    "plot(vehicles_record[0][:800], color='red') \n",
    "plot(vehicles_record[1][:800], color='blue') \n",
    "plot(vehicles_record[2][:800], color='green')\n",
    "plot(vehicles_record[3][:800], color='magenta')\n",
    "\n",
    "plt.legend(('Hamilton','Burlington','Oakville','Mississauga'))\n",
    "\n",
    "show()\n",
    "\n",
    "plt.title(\"Speed with Flexible Work Hours\")\n",
    "plt.xlabel(\"Time\")\n",
    "plt.ylabel(\"Average Speed (km/h)\")\n",
    "plt.xticks((np.arange(0,800,120)),('5:30 am','7:30 am','9:30 am','11:30 am','1:30 pm','3:30 pm','5:30 pm'))\n",
    "\n",
    "plot(speeds_record[0][:800], color='red') \n",
    "plot(speeds_record[1][:800], color='blue') \n",
    "plot(speeds_record[2][:800], color='green')\n",
    "plot(speeds_record[3][:800], color='magenta')\n",
    "\n",
    "plt.legend(('Hamilton','Burlington','Oakville','Mississauga'))\n",
    "\n",
    "show()\n",
    "\n",
    "plt.title(\"Flow with Flexible Work Hours\")\n",
    "plt.xlabel(\"Time\")\n",
    "plt.ylabel(\"Cars Passing / minute\")\n",
    "plt.xticks((np.arange(0,800,120)),('5:30 am','7:30 am','9:30 am','11:30 am','1:30 pm','3:30 pm','5:30 pm'))\n",
    "\n",
    "plot(outflow_record[0][:800], color='red') \n",
    "plot(outflow_record[1][:800], color='blue') \n",
    "plot(outflow_record[2][:800], color='green')\n",
    "plot(outflow_record[3][:800], color='magenta')\n",
    "\n",
    "plt.legend(('Hamilton','Burlington','Oakville','Mississauga'))\n",
    "\n",
    "show()\n",
    "\n",
    "plt.title(\"Ramp Inflow with Flexible Work Hours\")\n",
    "plt.xlabel(\"Time\")\n",
    "plt.ylabel(\"Cars / Minute\")\n",
    "plt.xticks((np.arange(0,800,120)),('5:30 am','7:30 am','9:30 am','11:30 am','1:30 pm','3:30 pm','5:30 pm'))\n",
    "\n",
    "plot(onramp_record[0][:800], color='red') \n",
    "plot(onramp_record[1][:800], color='blue') \n",
    "plot(onramp_record[2][:800], color='green')\n",
    "plot(onramp_record[3][:800], color='magenta')\n",
    "\n",
    "plt.legend(('Hamilton','Burlington','Oakville','Mississauga'))\n",
    "\n",
    "show()"
   ]
  },
  {
   "cell_type": "code",
   "execution_count": 3,
   "metadata": {},
   "outputs": [],
   "source": [
    "import datetime     \n",
    "def get_travel_time(start_city_index, start_time):\n",
    "    time_travelled = 0\n",
    "    \n",
    "    #Get the distances at which you cross between roads\n",
    "    markers = [0]\n",
    "    distance = 0\n",
    "    road_being_added = roads[0]\n",
    "    while (road_being_added != None):\n",
    "        distance += road_being_added.length\n",
    "        markers.append(distance)\n",
    "        road_being_added = road_being_added.next_road\n",
    "    dist_travelled = markers[start_city_index]\n",
    "    \n",
    "    ind = start_city_index\n",
    "    \n",
    "    while (ind<5):\n",
    "        if (dist_travelled < markers[ind]):\n",
    "            dist_travelled = dist_travelled + speeds_record[ind-1][start_time + time_travelled]/60\n",
    "            time_travelled = time_travelled + 1\n",
    "        else: # Commuter moved to the new section\n",
    "            ind = ind + 1\n",
    "    return time_travelled"
   ]
  },
  {
   "cell_type": "markdown",
   "metadata": {},
   "source": [
    "### Time Travelled Graph"
   ]
  },
  {
   "cell_type": "code",
   "execution_count": 4,
   "metadata": {
    "scrolled": false
   },
   "outputs": [
    {
     "name": "stdout",
     "output_type": "stream",
     "text": [
      "46\n",
      "39\n",
      "29\n",
      "21\n"
     ]
    },
    {
     "data": {
      "image/png": "[encoded data removed]",
      "text/plain": [
       "<Figure size 432x288 with 1 Axes>"
      ]
     },
     "metadata": {
      "needs_background": "light"
     },
     "output_type": "display_data"
    }
   ],
   "source": [
    "travel_times = [[get_travel_time(ind,start_time) for start_time in range(0,360)] for ind in range(len(roads))]\n",
    "\n",
    "print(travel_times[0][100])\n",
    "print(travel_times[1][115])\n",
    "print(travel_times[2][135])\n",
    "print(travel_times[3][155])\n",
    "\n",
    "plt.title(\"Travel Times with Flexible Work Hours\")\n",
    "plt.xlabel(\"Time\")\n",
    "plt.ylabel(\"Time in minutes to travel to Toronto\")\n",
    "plt.xticks((np.arange(0,360,60)),('5:30 am','6:30 am','7:30 am','8:30 am','9:30 am','10:30 am'))\n",
    "\n",
    "plot(travel_times[0], color='red') \n",
    "plot(travel_times[1], color='blue') \n",
    "plot(travel_times[2], color='green')\n",
    "plot(travel_times[3], color='magenta')\n",
    "\n",
    "plt.legend(('Hamilton','Burlington','Oakville','Mississauga'))\n",
    "\n",
    "show()"
   ]
  },
  {
   "cell_type": "markdown",
   "metadata": {},
   "source": [
    "## Conclusions\n",
    "\n",
    "These results look good. There is a lot of chaos in the model because once Mississauga gets backed up, the flow and speed of the previous road sections get messy. \n",
    "\n",
    "### Remaining Issues\n",
    "\n",
    "- There is still a slight problem with the model though: If there is a backup in the next section, the average speed doesn't decrease to zero, only the speed just before the next road section. In other words, for some drivers the speed is zero, but on average people near the start of the road would still be driving.\n",
    "\n",
    "- When a road is jammed, the on ramp traffic is still disappearing, assumed to find a different way to get to work."
   ]
  },
  {
   "cell_type": "code",
   "execution_count": null,
   "metadata": {},
   "outputs": [],
   "source": []
  }
 ],
 "metadata": {
  "kernelspec": {
   "display_name": "Python 3",
   "language": "python",
   "name": "python3"
  },
  "language_info": {
   "codemirror_mode": {
    "name": "ipython",
    "version": 3
   },
   "file_extension": ".py",
   "mimetype": "text/x-python",
   "name": "python",
   "nbconvert_exporter": "python",
   "pygments_lexer": "ipython3",
   "version": "3.6.8"
  }
 },
 "nbformat": 4,
 "nbformat_minor": 2
}
