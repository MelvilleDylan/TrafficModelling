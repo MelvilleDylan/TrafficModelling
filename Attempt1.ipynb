{
 "cells": [
  {
   "cell_type": "code",
   "execution_count": 108,
   "metadata": {},
   "outputs": [],
   "source": [
    "from scipy import stats\n",
    "import math\n",
    "\n",
    "class City:\n",
    "    def __init__(self, name, population,mean_leave):\n",
    "        self.name = name\n",
    "        self.population = population\n",
    "        self.mean_leave = mean_leave\n",
    "\n",
    "    def onramp(self, time):\n",
    "        st_dev = 33\n",
    "        commuters_percentage = 0.10\n",
    "        #Calculate the z-score for the normal dist. at the current time and the last time\n",
    "        z_now = (time-self.mean_leave) / st_dev\n",
    "        z_last = ((time-1)-self.mean_leave) / st_dev\n",
    "        #Calculate the probability of a car entering the highway in the last minute\n",
    "        cdf_now = stats.norm.cdf(z_now)\n",
    "        cdf_last = stats.norm.cdf(z_last)\n",
    "        probability = cdf_now - cdf_last\n",
    "        #Calculate the expected number of cars entering in the last minute\n",
    "        cars_coming_on = math.floor(probability*commuters_percentage*self.population)\n",
    "        return cars_coming_on\n",
    "    \n",
    "class Road:\n",
    "    global free_flow_speed, jam_density\n",
    "    free_flow_speed = 110/60 #110 is the free flow speed in km/h, so 110/60 is km/min\n",
    "    jam_density = 135\n",
    "    def __init__(self, length, lanes, onramp_city):\n",
    "        self.length = length\n",
    "        self.lanes= lanes\n",
    "        self.city = onramp_city\n",
    "        self.vehicle_count = self.city.onramp(0)\n",
    "        \n",
    "    def outflow(self):\n",
    "        density = self.vehicle_count / (self.lanes * self.length)\n",
    "        outflow = free_flow_speed*density*(1 - (density/jam_density))\n",
    "        return outflow\n",
    "    \n",
    "    def update(self,time,road_inflow):\n",
    "        onramp_inflow = self.city.onramp(time)\n",
    "        outflow = self.outflow()\n",
    "        self.vehicle_count = math.floor(self.vehicle_count + onramp_inflow + road_inflow - outflow)\n",
    "        return self.vehicle_count"
   ]
  },
  {
   "cell_type": "code",
   "execution_count": 109,
   "metadata": {},
   "outputs": [
    {
     "name": "stdout",
     "output_type": "stream",
     "text": [
      "12305\n"
     ]
    }
   ],
   "source": [
    "print(roads[0].vehicle_count)"
   ]
  },
  {
   "cell_type": "code",
   "execution_count": 7,
   "metadata": {},
   "outputs": [
    {
     "name": "stdout",
     "output_type": "stream",
     "text": [
      "1.0\n"
     ]
    }
   ],
   "source": [
    "total = 0\n",
    "stdev = 100\n",
    "time_values = [s/1000 for s in range(-10000,10000)]\n",
    "\n",
    "percentages = []\n",
    "for inc in range(len(time_values)-1):\n",
    "    cdf_1 = stats.norm.cdf(time_values[inc])\n",
    "    cdf_2 = stats.norm.cdf(time_values[inc+1])\n",
    "    diff = cdf_2 - cdf_1\n",
    "    percentages.append(diff)\n",
    "print(sum(percentages))"
   ]
  },
  {
   "cell_type": "code",
   "execution_count": 117,
   "metadata": {
    "scrolled": true
   },
   "outputs": [
    {
     "data": {
      "image/png": "[encoded data removed]",
      "text/plain": [
       "<Figure size 432x288 with 1 Axes>"
      ]
     },
     "metadata": {
      "needs_background": "light"
     },
     "output_type": "display_data"
    }
   ],
   "source": [
    "# odeint performed on SIR model\n",
    "import numpy as np\n",
    "import scipy.integrate as integrate \n",
    "import matplotlib.pyplot as plt\n",
    "from pylab import * \n",
    "\n",
    "#Note: t = 0 is 5:30 am\n",
    "\n",
    "#Setup Our 4 cities\n",
    "cities = [\n",
    "    City(name=\"Hamilton\",population=747545,mean_leave=100),\n",
    "    City(name=\"Burlington\",population=183314,mean_leave=115),\n",
    "    City(name=\"Oakville\",population=193832,mean_leave=135),\n",
    "    City(name=\"Mississauga\",population=721599,mean_leave=155)\n",
    "]\n",
    "#Setup Our 4 road segments\n",
    "roads = [\n",
    "    Road(length=11.1, lanes=3, onramp_city=cities[0]),\n",
    "    Road(length=17.0, lanes=4, onramp_city=cities[1]),\n",
    "    Road(length=13.8, lanes=4, onramp_city=cities[2]),\n",
    "    Road(length=20.9, lanes=3, onramp_city=cities[3])\n",
    "]\n",
    "\n",
    "run_time=100  # run_time*time_step must equal 600, which will go through one rush hour\n",
    "             # (std dev 33 with peak time for Hamilton route at 100, so 99% of the population will \n",
    "             # leave between 5:30 and  )\n",
    "\n",
    "\n",
    "def initialize():\n",
    "    global w, x, y , z, wresult, xresult, yresult, zresult, time\n",
    "    time = 5\n",
    "    w = 1\n",
    "    x = 1 \n",
    "    y = 1 \n",
    "    z = 1\n",
    "    wresult = [w]\n",
    "    xresult = [x]\n",
    "    yresult = [y]\n",
    "    zresult = [z]\n",
    "    \n",
    "def observe():\n",
    "    global w, x, y , z, wresult, xresult, yresult, zresult, time\n",
    "    wresult.append(w)\n",
    "    xresult.append(x)\n",
    "    yresult.append(y) \n",
    "    zresult.append(z)\n",
    "    \n",
    "def updateall():\n",
    "    global w, x, y , z, wresult, xresult, yresult, zresult, time\n",
    "    nextw = roads[0].city.onramp(time)\n",
    "    nextx = roads[1].update(time, roads[0].outflow())\n",
    "    nexty = roads[2].update(time, roads[1].outflow())\n",
    "    nextz = roads[3].update(time, roads[2].outflow())\n",
    "    w, x, y, z = nextw, nextx, nexty, nextz\n",
    "    time = time + 1\n",
    "    \n",
    "\n",
    "initialize()\n",
    "\n",
    "for t in range(run_time):\n",
    "    updateall()\n",
    "    observe() \n",
    "    \n",
    "plot(wresult, color='red') \n",
    "plot(xresult, color='blue') \n",
    "plot(yresult, color='green')\n",
    "plot(zresult, color='magenta') \n",
    "\n",
    "show()"
   ]
  },
  {
   "cell_type": "code",
   "execution_count": 103,
   "metadata": {},
   "outputs": [
    {
     "ename": "AttributeError",
     "evalue": "'float' object has no attribute 'density'",
     "output_type": "error",
     "traceback": [
      "\u001b[1;31m---------------------------------------------------------------------------\u001b[0m",
      "\u001b[1;31mAttributeError\u001b[0m                            Traceback (most recent call last)",
      "\u001b[1;32m<ipython-input-103-6fb520c5de7e>\u001b[0m in \u001b[0;36m<module>\u001b[1;34m\u001b[0m\n\u001b[0;32m      1\u001b[0m \u001b[0mtime\u001b[0m \u001b[1;33m=\u001b[0m \u001b[1;36m100\u001b[0m\u001b[1;33m\u001b[0m\u001b[1;33m\u001b[0m\u001b[0m\n\u001b[1;32m----> 2\u001b[1;33m \u001b[0mprint\u001b[0m\u001b[1;33m(\u001b[0m\u001b[0mroads\u001b[0m\u001b[1;33m[\u001b[0m\u001b[1;36m0\u001b[0m\u001b[1;33m]\u001b[0m\u001b[1;33m.\u001b[0m\u001b[0moutflow\u001b[0m\u001b[1;33m(\u001b[0m\u001b[1;33m)\u001b[0m\u001b[1;33m.\u001b[0m\u001b[0mdensity\u001b[0m\u001b[1;33m)\u001b[0m\u001b[1;33m\u001b[0m\u001b[1;33m\u001b[0m\u001b[0m\n\u001b[0m",
      "\u001b[1;31mAttributeError\u001b[0m: 'float' object has no attribute 'density'"
     ]
    }
   ],
   "source": []
  },
  {
   "cell_type": "code",
   "execution_count": null,
   "metadata": {},
   "outputs": [],
   "source": []
  }
 ],
 "metadata": {
  "kernelspec": {
   "display_name": "Python 3",
   "language": "python",
   "name": "python3"
  },
  "language_info": {
   "codemirror_mode": {
    "name": "ipython",
    "version": 3
   },
   "file_extension": ".py",
   "mimetype": "text/x-python",
   "name": "python",
   "nbconvert_exporter": "python",
   "pygments_lexer": "ipython3",
   "version": "3.7.3"
  }
 },
 "nbformat": 4,
 "nbformat_minor": 2
}
