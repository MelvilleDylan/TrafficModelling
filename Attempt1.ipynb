{
 "cells": [
  {
   "cell_type": "code",
   "execution_count": 2,
   "metadata": {},
   "outputs": [],
   "source": [
    "from scipy import stats\n",
    "\n",
    "class City:\n",
    "    commuters_percentage = 0.1\n",
    "    st_dev = 30\n",
    "\n",
    "    def __init__(self, name, population,mean_leave):\n",
    "        self.name = name\n",
    "        self.population = population\n",
    "        self.mean_leave = mean_leave\n",
    "\n",
    "    def onramp(time):\n",
    "        #Calculate the z-score for the normal dist. at the current time and the last time\n",
    "        z_now = (time-self.mean_leave) / st_dev\n",
    "        z_last = ((time-1)-self.mean_leave) / st_dev\n",
    "        #Calculate the probability of a car entering the highway in the last minute\n",
    "        cdf_now = stats.norm.cdf(z_now)\n",
    "        cdf_last = stats.norm.cdf(z_last)\n",
    "        probability = cdf_now - cdf_last\n",
    "        #Calculate the expected number of cars entering in the last minute\n",
    "        cars_coming_on = probability*commuters_percentage*self.population\n",
    "    \n",
    "class Road:\n",
    "    free_flow_speed = 110/60 #110 is the free flow speed in km/h, so 110/60 is km/min\n",
    "    jam_density = 135\n",
    "    def __init__(self, length, lanes,onramp_city):\n",
    "        self.length = length\n",
    "        self.lanes=lanes\n",
    "        self.city = onramp_city\n",
    "        self.vehicle_count = 0\n",
    "        \n",
    "    def outflow(self):\n",
    "        density = self.vehicle_count / (self.lanes * self.length)\n",
    "        outflow = free_flow_speed*density*(1 - (density/jam_density))\n",
    "        return outflow\n",
    "    \n",
    "    def update(self,time,road_inflow):\n",
    "        onramp_inflow = self.city.onramp(time)\n",
    "        outflow = self.outflow()\n",
    "        self.vehicles = self.vehicles + onramp_inflow + road_inflow - outflow"
   ]
  },
  {
   "cell_type": "code",
   "execution_count": 7,
   "metadata": {},
   "outputs": [
    {
     "name": "stdout",
     "output_type": "stream",
     "text": [
      "1.0\n"
     ]
    }
   ],
   "source": [
    "total = 0\n",
    "stdev = 100\n",
    "time_values = [s/1000 for s in range(-10000,10000)]\n",
    "percentages = []\n",
    "for inc in range(len(time_values)-1):\n",
    "    cdf_1 = stats.norm.cdf(time_values[inc])\n",
    "    cdf_2 = stats.norm.cdf(time_values[inc+1])\n",
    "    diff = cdf_2 - cdf_1\n",
    "    percentages.append(diff)\n",
    "print(sum(percentages))"
   ]
  },
  {
   "cell_type": "code",
   "execution_count": 6,
   "metadata": {
    "scrolled": true
   },
   "outputs": [
    {
     "data": {
      "image/png": "[encoded data removed]",
      "text/plain": [
       "<Figure size 432x288 with 1 Axes>"
      ]
     },
     "metadata": {
      "needs_background": "light"
     },
     "output_type": "display_data"
    }
   ],
   "source": [
    "# odeint performed on SIR model\n",
    "import numpy as np\n",
    "import scipy.integrate as integrate \n",
    "import matplotlib.pyplot as plt\n",
    "from pylab import * \n",
    "\n",
    "#Note: t = 0 is 5:30 am\n",
    "\n",
    "#Setup Our 4 cities\n",
    "cities = [\n",
    "    City(name=\"Hamilton\",population=747545,mean_leave=100),\n",
    "    City(name=\"Burlington\",population=183314,mean_leave=115),\n",
    "    City(name=\"Oakville\",population=193832,mean_leave=135),\n",
    "    City(name=\"Mississauga\",population=721599,mean_leave=155)\n",
    "]\n",
    "\n",
    "# constants \n",
    "s=110  #speed\n",
    "d=100  #length of highway (one part)\n",
    "l=4    #Number of lanes of stretch of highway\n",
    "j=135    #jam density\n",
    "run_time = 3\n",
    "\n",
    "def intialize(): \n",
    "    global v,vresult\n",
    "    v = 100.0 \n",
    "    vresult = [v]\n",
    "    \n",
    "def observe(): \n",
    "    global v,vresult\n",
    "    vresult.append(v)\n",
    "    \n",
    "def update(): \n",
    "    global v,vresult \n",
    "    nextv = \n",
    "    v = nextv\n",
    "\n",
    "intialize()\n",
    "\n",
    "for t in range(run_time):\n",
    "    update()\n",
    "    observe()\n",
    "    \n",
    "plot(vresult, color='blue') \n",
    "title(\"$s=$\"+str(s)+ \", $d=$\"+str(d)+\", $l=$\"+str(l)+\", $j=$\"+str(j)+ \", $ v_O=$\"+str(vresult[0]))\n",
    "show()"
   ]
  },
  {
   "cell_type": "code",
   "execution_count": null,
   "metadata": {},
   "outputs": [],
   "source": []
  }
 ],
 "metadata": {
  "kernelspec": {
   "display_name": "Python 3",
   "language": "python",
   "name": "python3"
  },
  "language_info": {
   "codemirror_mode": {
    "name": "ipython",
    "version": 3
   },
   "file_extension": ".py",
   "mimetype": "text/x-python",
   "name": "python",
   "nbconvert_exporter": "python",
   "pygments_lexer": "ipython3",
   "version": "3.7.3"
  }
 },
 "nbformat": 4,
 "nbformat_minor": 2
}
