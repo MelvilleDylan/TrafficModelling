{
 "cells": [
  {
   "cell_type": "code",
   "execution_count": 2,
   "metadata": {},
   "outputs": [],
   "source": [
    "from scipy import stats\n",
    "import math\n",
    "\n",
    "class City:\n",
    "    def __init__(self, name, population,mean_leave):\n",
    "        self.name = name\n",
    "        self.population = population\n",
    "        self.mean_leave = mean_leave\n",
    "\n",
    "    def onramp(self, time):\n",
    "        st_dev = 33\n",
    "        commuters_percentage = 0.01\n",
    "        #Calculate the z-score for the normal dist. at the current time and the last time\n",
    "        z_now = (time-self.mean_leave) / st_dev\n",
    "        z_last = ((time-1)-self.mean_leave) / st_dev\n",
    "        #Calculate the probability of a car entering the highway in the last minute\n",
    "        cdf_now = stats.norm.cdf(z_now)\n",
    "        cdf_last = stats.norm.cdf(z_last)\n",
    "        probability = cdf_now - cdf_last\n",
    "        #Calculate the expected number of cars entering in the last minute\n",
    "        cars_coming_on = math.floor(probability*commuters_percentage*self.population)\n",
    "        return cars_coming_on\n",
    "    \n",
    "class Road:\n",
    "    global free_flow_speed, jam_density\n",
    "    free_flow_speed = 110/60 #110 is the free flow speed in km/h, so 110/60 is km/min\n",
    "    jam_density = 135\n",
    "    def __init__(self, length, lanes, onramp_city):\n",
    "        self.length = length\n",
    "        self.lanes= lanes\n",
    "        self.city = onramp_city\n",
    "        self.vehicle_count = 0\n",
    "        self.density = 0\n",
    "        self.speed = free_flow_speed*(1 - (self.density/jam_density))\n",
    "        #Assumption: The highway never gets fully jammed, so outflow never fully stops\n",
    "        self.max_vehicles = jam_density*self.lanes*self.length*0.8\n",
    "        \n",
    "    def outflow(self):\n",
    "        self.speed = free_flow_speed*(1 - (self.density/jam_density))\n",
    "        outflow = self.density*self.speed\n",
    "        return outflow\n",
    "    \n",
    "    def update(self,time,road_inflow):\n",
    "        onramp_inflow = self.city.onramp(time)\n",
    "        outflow = self.outflow()\n",
    "        #Assumption: Once the highway is jammed, all cars that would come on exit the highway\n",
    "        self.vehicle_count = min(math.floor(self.vehicle_count + onramp_inflow + road_inflow - outflow),self.max_vehicles)\n",
    "        self.density = self.vehicle_count / (self.lanes * self.length)\n",
    "        return {'Count':self.vehicle_count,'Onramp':onramp_inflow,'Road Inflow':road_inflow,'Outflow':outflow}"
   ]
  },
  {
   "cell_type": "code",
   "execution_count": 3,
   "metadata": {
    "scrolled": false
   },
   "outputs": [
    {
     "data": {
      "text/plain": [
       "<Figure size 640x480 with 1 Axes>"
      ]
     },
     "metadata": {},
     "output_type": "display_data"
    },
    {
     "data": {
      "text/plain": [
       "<Figure size 640x480 with 1 Axes>"
      ]
     },
     "metadata": {},
     "output_type": "display_data"
    },
    {
     "data": {
      "text/plain": [
       "<Figure size 640x480 with 1 Axes>"
      ]
     },
     "metadata": {},
     "output_type": "display_data"
    }
   ],
   "source": [
    "# odeint performed on SIR model\n",
    "import numpy as np\n",
    "import scipy.integrate as integrate \n",
    "import matplotlib.pyplot as plt\n",
    "from pylab import * \n",
    "\n",
    "#Note: t = 0 is 5:30 am\n",
    "\n",
    "#Setup Our 4 cities\n",
    "cities = [\n",
    "    City(name=\"Hamilton\",population=747545,mean_leave=100),\n",
    "    City(name=\"Burlington\",population=183314,mean_leave=115),\n",
    "    City(name=\"Oakville\",population=193832,mean_leave=135),\n",
    "    City(name=\"Mississauga\",population=721599,mean_leave=155)\n",
    "]\n",
    "#Setup Our 4 road segments\n",
    "roads = [\n",
    "    Road(length=11.1, lanes=4, onramp_city=cities[0]),\n",
    "    Road(length=17.0, lanes=3, onramp_city=cities[1]),\n",
    "    Road(length=13.8, lanes=3, onramp_city=cities[2]),\n",
    "    Road(length=20.9, lanes=4, onramp_city=cities[3])\n",
    "]\n",
    "\n",
    "run_time=800  # run_time*time_step must equal 600, which will go through one rush hour\n",
    "             # (std dev 33 with peak time for Hamilton route at 100, so 99% of the population will \n",
    "             # leave between 5:30 and  )\n",
    "\n",
    "\n",
    "def initialize():\n",
    "    global time, speeds_record, vehicles_record, outflow_record\n",
    "    time = 0\n",
    "    # list of the initial car populations\n",
    "    speeds_record = [[road.speed*60] for road in roads]\n",
    "    vehicles_record = [[road.vehicle_count] for road in roads]\n",
    "    outflow_record = [[road.outflow()] for road in roads]\n",
    "    \n",
    "def observe():\n",
    "    global time, speeds_record, vehicles_record, outflow_record\n",
    "    \n",
    "    #using the road objects vehicle_count to record itself\n",
    "    for ind in range(len(vehicles_record)):\n",
    "        speeds_record[ind].append(roads[ind].speed*60)\n",
    "        vehicles_record[ind].append(roads[ind].vehicle_count)\n",
    "        outflow_record[ind].append(roads[ind].outflow())\n",
    "    \n",
    "def updateall():\n",
    "    global time\n",
    "    outflows = [road.outflow() for road in roads]\n",
    "    roads[0].update(time, 0)\n",
    "    roads[1].update(time,outflows[0])\n",
    "    roads[2].update(time,outflows[1])\n",
    "    roads[3].update(time,outflows[2])\n",
    "    \n",
    "    time = time + 1\n",
    "\n",
    "initialize()\n",
    "\n",
    "for t in range(run_time):\n",
    "    updateall()\n",
    "    observe() \n",
    "\n",
    "plt.title(\"Vehicles on 403 highway Sections During Rush Hour\")\n",
    "plt.xlabel(\"Time\")\n",
    "plt.ylabel(\"Number of Vehicles\")\n",
    "plt.xticks((np.arange(0,800,120)),('5:30 am','7:30 am','9:30 am','11:30 am','1:30 pm','3:30 pm','5:30 pm'))\n",
    "\n",
    "plot(vehicles_record[0], color='red') \n",
    "plot(vehicles_record[1], color='blue') \n",
    "plot(vehicles_record[2], color='green')\n",
    "plot(vehicles_record[3], color='magenta')\n",
    "\n",
    "show()\n",
    "\n",
    "plt.title(\"Speed of Average Car on 403 highway Sections During Rush Hour\")\n",
    "plt.xlabel(\"Time\")\n",
    "plt.ylabel(\"Average Speed (km/h)\")\n",
    "plt.xticks((np.arange(0,800,120)),('5:30 am','7:30 am','9:30 am','11:30 am','1:30 pm','3:30 pm','5:30 pm'))\n",
    "\n",
    "plot(speeds_record[0], color='red') \n",
    "plot(speeds_record[1], color='blue') \n",
    "plot(speeds_record[2], color='green')\n",
    "plot(speeds_record[3], color='magenta')\n",
    "\n",
    "show()\n",
    "\n",
    "plt.title(\"Flow of Vehicles on 403 highway Sections During Rush Hour\")\n",
    "plt.xlabel(\"Time\")\n",
    "plt.ylabel(\"Cars Passing / minute\")\n",
    "plt.xticks((np.arange(0,800,120)),('5:30 am','7:30 am','9:30 am','11:30 am','1:30 pm','3:30 pm','5:30 pm'))\n",
    "\n",
    "plot(outflow_record[0], color='red') \n",
    "plot(outflow_record[1], color='blue') \n",
    "plot(outflow_record[2], color='green')\n",
    "plot(outflow_record[3], color='magenta')\n",
    "\n",
    "show()"
   ]
  },
  {
   "cell_type": "markdown",
   "metadata": {},
   "source": [
    "# This following section will return the time needed to depart by to arrive for work by 9am"
   ]
  },
  {
   "cell_type": "code",
   "execution_count": 77,
   "metadata": {},
   "outputs": [
    {
     "name": "stdout",
     "output_type": "stream",
     "text": [
      "If you leave after 08:26 you will not make it to Toronto for 9am\n"
     ]
    }
   ],
   "source": [
    "import datetime\n",
    "time_travelled = 0\n",
    "dist_travelled = 0.0\n",
    "ind = 0\n",
    "marker = [11.1, 28.1, 41.9, 62.8]\n",
    "for start_time in range(0,210):\n",
    "    while (ind<4):\n",
    "        if (dist_travelled < marker[ind]):\n",
    "            dist_travelled = dist_travelled + speeds_record[ind][start_time + time_travelled]/60\n",
    "            time_travelled = time_travelled + 1\n",
    "        else: # Commuter moved to the new section\n",
    "            ind = ind + 1\n",
    "    a = datetime.datetime(100,1,1,5,30)\n",
    "    b = a + datetime.timedelta(0,start_time*60)\n",
    "    if (time_travelled + start_time > 210):\n",
    "        print(\"If you leave after\",b.time().isoformat(timespec='minutes'),\"you will not make it to Toronto for 9am\")\n",
    "        break"
   ]
  }
 ],
 "metadata": {
  "kernelspec": {
   "display_name": "Python 3",
   "language": "python",
   "name": "python3"
  },
  "language_info": {
   "codemirror_mode": {
    "name": "ipython",
    "version": 3
   },
   "file_extension": ".py",
   "mimetype": "text/x-python",
   "name": "python",
   "nbconvert_exporter": "python",
   "pygments_lexer": "ipython3",
   "version": "3.7.3"
  }
 },
 "nbformat": 4,
 "nbformat_minor": 2
}
