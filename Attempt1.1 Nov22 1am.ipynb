{
 "cells": [
  {
   "cell_type": "code",
   "execution_count": 60,
   "metadata": {},
   "outputs": [],
   "source": [
    "from scipy import stats\n",
    "import math\n",
    "\n",
    "class City:\n",
    "    def __init__(self, name, population,mean_leave):\n",
    "        self.name = name\n",
    "        self.population = population\n",
    "        self.mean_leave = mean_leave\n",
    "\n",
    "    def onramp(self, time):\n",
    "        st_dev = 33\n",
    "        commuters_percentage = 0.10\n",
    "        #Calculate the z-score for the normal dist. at the current time and the last time\n",
    "        z_now = (time-self.mean_leave) / st_dev\n",
    "        z_last = ((time-1)-self.mean_leave) / st_dev\n",
    "        #Calculate the probability of a car entering the highway in the last minute\n",
    "        cdf_now = stats.norm.cdf(z_now)\n",
    "        cdf_last = stats.norm.cdf(z_last)\n",
    "        probability = cdf_now - cdf_last\n",
    "        #Calculate the expected number of cars entering in the last minute\n",
    "        cars_coming_on = math.floor(probability*commuters_percentage*self.population)\n",
    "        return cars_coming_on\n",
    "    \n",
    "class Road:\n",
    "    global free_flow_speed, jam_density\n",
    "    free_flow_speed = 110/60 #110 is the free flow speed in km/h, so 110/60 is km/min\n",
    "    jam_density = 135\n",
    "    def __init__(self, length, lanes, onramp_city):\n",
    "        self.length = length\n",
    "        self.lanes= lanes\n",
    "        self.city = onramp_city\n",
    "        self.vehicle_count = 1\n",
    "        \n",
    "    def outflow(self):\n",
    "        density = self.vehicle_count / (self.lanes * self.length)\n",
    "        #jam_density is the carrying capacity\n",
    "        outflow = max(free_flow_speed*density*(1 - (density/jam_density)),0) \n",
    "        return outflow\n",
    "    \n",
    "    def update(self,time,road_inflow):\n",
    "        outflow = self.outflow()\n",
    "        if (self.outflow()>0 and self.vehicle_count>outflow): \n",
    "            onramp_inflow = self.city.onramp(time)\n",
    "            self.vehicle_count = math.floor(self.vehicle_count + onramp_inflow + road_inflow - outflow)\n",
    "            return self.vehicle_count\n",
    "        elif (self.outflow()==0):\n",
    "            ## when the state is 'jammed' we stop all inputs. \n",
    "             ##This assumes all cars upon arriving at jammed section are longer part of the equation (no backup to other sections occur)\n",
    "             #We should never have an outflow of 0 as there may be jammed, stopped section but cars will always be leaving a \n",
    "             # section to the next, even at a very low rate. \n",
    "             # With time step of one minute, we can set a minimum of leaving cars to be the number of lanes times\n",
    "             # 10 'rows' of cars per time step of 1min. This value 10 is a assumption   \n",
    "            self.vehicle_count = max(math.floor(self.vehicle_count - self.lanes*10),1)\n",
    "            return self.vehicle_count\n",
    "        elif (self.vehicle_count<outflow):\n",
    "            self.vehicle_count = 1\n",
    "            return self.vehicle_count"
   ]
  },
  {
   "cell_type": "code",
   "execution_count": null,
   "metadata": {},
   "outputs": [],
   "source": []
  },
  {
   "cell_type": "code",
   "execution_count": 61,
   "metadata": {},
   "outputs": [
    {
     "name": "stdout",
     "output_type": "stream",
     "text": [
      "1.0\n"
     ]
    }
   ],
   "source": [
    "total = 0\n",
    "stdev = 100\n",
    "time_values = [s/1000 for s in range(-10000,10000)]\n",
    "\n",
    "percentages = []\n",
    "for inc in range(len(time_values)-1):\n",
    "    cdf_1 = stats.norm.cdf(time_values[inc])\n",
    "    cdf_2 = stats.norm.cdf(time_values[inc+1])\n",
    "    diff = cdf_2 - cdf_1\n",
    "    percentages.append(diff)\n",
    "print(sum(percentages))"
   ]
  },
  {
   "cell_type": "code",
   "execution_count": 62,
   "metadata": {
    "scrolled": true
   },
   "outputs": [
    {
     "data": {
      "image/png": "[encoded data removed]",
      "text/plain": [
       "<Figure size 432x288 with 1 Axes>"
      ]
     },
     "metadata": {
      "needs_background": "light"
     },
     "output_type": "display_data"
    }
   ],
   "source": [
    "# odeint performed on SIR model\n",
    "import numpy as np\n",
    "import scipy.integrate as integrate \n",
    "import matplotlib.pyplot as plt\n",
    "from pylab import * \n",
    "\n",
    "#Note: t = 0 is 5:30 am\n",
    "\n",
    "#Setup Our 4 cities\n",
    "cities = [\n",
    "    City(name=\"Hamilton\",population=747545,mean_leave=100),\n",
    "    City(name=\"Burlington\",population=183314,mean_leave=115),\n",
    "    City(name=\"Oakville\",population=193832,mean_leave=135),\n",
    "    City(name=\"Mississauga\",population=721599,mean_leave=155)\n",
    "]\n",
    "#Setup Our 4 road segments\n",
    "roads = [\n",
    "    Road(length=11.1, lanes=3, onramp_city=cities[0]),\n",
    "    Road(length=17.0, lanes=4, onramp_city=cities[1]),\n",
    "    Road(length=13.8, lanes=4, onramp_city=cities[2]),\n",
    "    Road(length=20.9, lanes=3, onramp_city=cities[3])\n",
    "]\n",
    "\n",
    "run_time=100  \n",
    "\n",
    "def initialize():\n",
    "    global w, x, y , z, wresult, xresult, yresult, zresult, time\n",
    "    time = 1\n",
    "    w = 1\n",
    "    x = 1 \n",
    "    y = 1 \n",
    "    z = 1\n",
    "    wresult = [w]\n",
    "    xresult = [x]\n",
    "    yresult = [y]\n",
    "    zresult = [z]\n",
    "    \n",
    "def observe():\n",
    "    global w, x, y , z, wresult, xresult, yresult, zresult, time\n",
    "    wresult.append(w)\n",
    "    xresult.append(x)\n",
    "    yresult.append(y) \n",
    "    zresult.append(z)\n",
    "    \n",
    "def updateall():\n",
    "    global w, x, y , z, wresult, xresult, yresult, zresult, time\n",
    "    nextw = roads[0].city.onramp(time)\n",
    "    nextx = roads[1].update(time, roads[0].outflow())\n",
    "    nexty = roads[2].update(time, roads[1].outflow())\n",
    "    nextz = roads[3].update(time, roads[2].outflow())\n",
    "    w, x, y, z = nextw, nextx, nexty, nextz\n",
    "    time = time + 5\n",
    "    \n",
    "\n",
    "initialize()\n",
    "\n",
    "for t in range(run_time):\n",
    "    updateall()\n",
    "    observe() \n",
    "    \n",
    "plot(wresult, color='red') \n",
    "plot(xresult, color='blue') \n",
    "plot(yresult, color='green')\n",
    "plot(zresult, color='magenta') \n",
    "\n",
    "show()"
   ]
  },
  {
   "cell_type": "code",
   "execution_count": 63,
   "metadata": {},
   "outputs": [
    {
     "name": "stdout",
     "output_type": "stream",
     "text": [
      "[1, 0, 1, 1, 1, 1, 1, 2, 4, 8, 14, 24, 38, 59, 88, 127, 180, 247, 332, 435, 559, 704, 871, 1057, 1260, 1478, 1706, 1939, 2172, 2400, 2618, 2821, 3007, 3172, 3315, 3436, 3536, 3615, 3676, 3721, 3752, 3772, 3782, 3786, 3783, 3776, 3766, 3753, 3738, 3722, 3704, 3685, 3666, 3646, 3626, 3605, 3583, 3561, 3538, 3514, 3490, 3465, 3440, 3414, 3387, 3360, 3332, 3304, 3275, 3246, 3216, 3186, 3155, 3124, 3092, 3060, 3028, 2995, 2962, 2929, 2895, 2861, 2827, 2792, 2757, 2722, 2687, 2652, 2616, 2580, 2544, 2508, 2472, 2436, 2400, 2364, 2328, 2292, 2256, 2220, 2184]\n"
     ]
    }
   ],
   "source": [
    "print(yresult)"
   ]
  },
  {
   "cell_type": "code",
   "execution_count": null,
   "metadata": {},
   "outputs": [],
   "source": []
  }
 ],
 "metadata": {
  "kernelspec": {
   "display_name": "Python 3",
   "language": "python",
   "name": "python3"
  },
  "language_info": {
   "codemirror_mode": {
    "name": "ipython",
    "version": 3
   },
   "file_extension": ".py",
   "mimetype": "text/x-python",
   "name": "python",
   "nbconvert_exporter": "python",
   "pygments_lexer": "ipython3",
   "version": "3.7.3"
  }
 },
 "nbformat": 4,
 "nbformat_minor": 2
}
